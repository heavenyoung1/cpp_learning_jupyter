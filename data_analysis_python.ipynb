{
 "cells": [
  {
   "cell_type": "code",
   "execution_count": 1,
   "id": "98edbe67",
   "metadata": {},
   "outputs": [
    {
     "name": "stdout",
     "output_type": "stream",
     "text": [
      "Hello, World\n"
     ]
    }
   ],
   "source": [
    "print('Hello, World')"
   ]
  },
  {
   "cell_type": "code",
   "execution_count": 32,
   "id": "6edc67f3",
   "metadata": {},
   "outputs": [
    {
     "name": "stdout",
     "output_type": "stream",
     "text": [
      "jackson@ayandex.com\n"
     ]
    }
   ],
   "source": [
    "#В ноутбук с домашкой я загрузила строки, из них и нужно получить имейл.\n",
    "import re\n",
    "raw_text1 = '''Outward suspected reasonably basket cousins. \n",
    "Income charmed mutual spirit ten fifteen expenses building length assured jointure rest arise, jackson@mail.ru. \n",
    "Did handsome dissuade provided season pleasure piqued sufficient dried child cordial chapter house.\n",
    "'''\n",
    "raw_text2 = '''Outward suspected reasonably basket cousins. \n",
    "Income charmed mutual spirit ten fifteen expenses building length assured jointure rest arise. \n",
    "Did handsome dissuade provided season pleasure piqued sufficient dried child cordial chapter house.\n",
    "jackson@ayandex.com\n",
    "'''\n",
    "email_id = re.search(r'([\\w.])+@([\\w.])+', raw_text2)\n",
    "if email_id.group()[-1] == '.':\n",
    "    print(email_id.group()[:-1])\n",
    "else:\n",
    "    print(email_id.group())"
   ]
  }
 ],
 "metadata": {
  "kernelspec": {
   "display_name": "Python 3 (ipykernel)",
   "language": "python",
   "name": "python3"
  },
  "language_info": {
   "codemirror_mode": {
    "name": "ipython",
    "version": 3
   },
   "file_extension": ".py",
   "mimetype": "text/x-python",
   "name": "python",
   "nbconvert_exporter": "python",
   "pygments_lexer": "ipython3",
   "version": "3.10.0"
  }
 },
 "nbformat": 4,
 "nbformat_minor": 5
}
